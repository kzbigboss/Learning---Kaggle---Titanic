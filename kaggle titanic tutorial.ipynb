{
 "cells": [
  {
   "cell_type": "markdown",
   "metadata": {},
   "source": [
    "# Titanic Kaggle Example\n",
    "\n",
    "Stepping through the Titanic Kaggle example ([link](https://www.kaggle.com/c/titanic/details/getting-started-with-python)) to get familiar with building models in Python.\n",
    "\n",
    "Tutorial is written in Python 2.7.  Going to work in Python 3.5.1 instead."
   ]
  },
  {
   "cell_type": "code",
   "execution_count": 1,
   "metadata": {
    "collapsed": false
   },
   "outputs": [],
   "source": [
    "# import libraries\n",
    "import csv as csv\n",
    "import numpy as np"
   ]
  },
  {
   "cell_type": "code",
   "execution_count": 2,
   "metadata": {
    "collapsed": false
   },
   "outputs": [],
   "source": [
    "# read in training dataset\n",
    "\n",
    "csv_file_object = csv.reader(open('input/train.csv', 'rt'))\n",
    "\n",
    "### had to change it to read text (rt) in order to work with Python 3.5.1"
   ]
  },
  {
   "cell_type": "code",
   "execution_count": 3,
   "metadata": {
    "collapsed": false
   },
   "outputs": [
    {
     "name": "stdout",
     "output_type": "stream",
     "text": [
      "['PassengerId', 'Survived', 'Pclass', 'Name', 'Sex', 'Age', 'SibSp', 'Parch', 'Ticket', 'Fare', 'Cabin', 'Embarked']\n"
     ]
    }
   ],
   "source": [
    "# what's the header?\n",
    "\n",
    "header_train = next(csv_file_object)\n",
    "print(header_train)\n",
    "\n",
    "### change here to how Python's next command"
   ]
  },
  {
   "cell_type": "code",
   "execution_count": 4,
   "metadata": {
    "collapsed": false
   },
   "outputs": [],
   "source": [
    "# create array to hold all the rows of data\n",
    "\n",
    "data=[]\n",
    "\n",
    "for row in csv_file_object:\n",
    "    data.append(row)\n",
    "    \n",
    "data = np.array(data)"
   ]
  },
  {
   "cell_type": "code",
   "execution_count": 5,
   "metadata": {
    "collapsed": false
   },
   "outputs": [
    {
     "name": "stdout",
     "output_type": "stream",
     "text": [
      "proportion of survivors was 38.3838%\n"
     ]
    }
   ],
   "source": [
    "number_passengers = np.size(data[0::,1].astype(np.float))\n",
    "number_survived = np.sum(data[0::,1].astype(np.float))\n",
    "proportion_survivors = number_survived / number_passengers\n",
    "rounding = 4\n",
    "print_text = \"proportion of survivors was {}%\".format(round(proportion_survivors*100,rounding))\n",
    "print(print_text)"
   ]
  },
  {
   "cell_type": "code",
   "execution_count": 6,
   "metadata": {
    "collapsed": false
   },
   "outputs": [],
   "source": [
    "# Determine women versus men in dataset:\n",
    "\n",
    "women_only_stats = data[0::,4] == \"female\"\n",
    "men_only_stats = data[0::,4] != \"female\""
   ]
  },
  {
   "cell_type": "code",
   "execution_count": 7,
   "metadata": {
    "collapsed": false
   },
   "outputs": [
    {
     "name": "stdout",
     "output_type": "stream",
     "text": [
      "proportion of men that survived was 18.8908%\n",
      "proportion of women that survived was 74.2038%\n"
     ]
    }
   ],
   "source": [
    "# Using the index from above we select the females and males separately\n",
    "women_onboard = data[women_only_stats,1].astype(np.float)     \n",
    "men_onboard = data[men_only_stats,1].astype(np.float)\n",
    "\n",
    "# Then we finds the proportions of them that survived\n",
    "proportion_women_survived = np.sum(women_onboard) / np.size(women_onboard)  \n",
    "proportion_men_survived = np.sum(men_onboard) / np.size(men_onboard) \n",
    "\n",
    "# and then print it out\n",
    "print_text = \"proportion of men that survived was {}%\".format(round(proportion_men_survived*100,rounding))\n",
    "print(print_text)\n",
    "print_text = \"proportion of women that survived was {}%\".format(round(proportion_women_survived*100,rounding))\n",
    "print(print_text)"
   ]
  },
  {
   "cell_type": "code",
   "execution_count": 8,
   "metadata": {
    "collapsed": false
   },
   "outputs": [
    {
     "name": "stdout",
     "output_type": "stream",
     "text": [
      "['PassengerId', 'Pclass', 'Name', 'Sex', 'Age', 'SibSp', 'Parch', 'Ticket', 'Fare', 'Cabin', 'Embarked']\n"
     ]
    }
   ],
   "source": [
    "# read in test dataset\n",
    "\n",
    "test_file = csv.reader(open('input/test.csv', 'rt'))\n",
    "header_test = next(test_file)\n",
    "print(header_test)"
   ]
  },
  {
   "cell_type": "code",
   "execution_count": 9,
   "metadata": {
    "collapsed": false
   },
   "outputs": [],
   "source": [
    "# write predictions based on if survivor was male or female\n",
    "\n",
    "with open('output/genderbasedmodel.csv','wt') as writefile:\n",
    "    prediction_file = csv.writer(writefile)\n",
    "    prediction_file.writerow(['PassengerID','Survived'])\n",
    "    for row in test_file:\n",
    "        if row[3] == 'female':\n",
    "            prediction_file.writerow([row[0],'1'])\n",
    "        else:\n",
    "            prediction_file.writerow([row[0],'0']) \n",
    "\n",
    "### kept having issues with the file being locked\n",
    "### while the kernal was running.\n",
    "###\n",
    "### decided to move to \"with\" so that the file is\n",
    "### closed as soon as the WITH command is complete."
   ]
  }
 ],
 "metadata": {
  "kernelspec": {
   "display_name": "Python 3",
   "language": "python",
   "name": "python3"
  },
  "language_info": {
   "codemirror_mode": {
    "name": "ipython",
    "version": 3
   },
   "file_extension": ".py",
   "mimetype": "text/x-python",
   "name": "python",
   "nbconvert_exporter": "python",
   "pygments_lexer": "ipython3",
   "version": "3.5.1"
  }
 },
 "nbformat": 4,
 "nbformat_minor": 0
}
